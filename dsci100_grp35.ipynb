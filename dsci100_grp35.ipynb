{
 "cells": [
  {
   "cell_type": "markdown",
   "id": "a59d16f0-ba0a-40d0-805f-c6663cc914d9",
   "metadata": {},
   "source": [
    "### Introduction\n",
    "Tennis is a highly competitive sport, with many professionals starting at a young age. Furthermore, it is notorious for having an early retirement age compared to other sports. Many professional tennis players retire before 30, but popular players have retired at a much later age. With such an emphasis on age and success, our project aims to determine if age predicts success among the Top 500 tennis players. Using the \"Player Stats for Top 500 Players\" data set from https://www.ultimatetennisstatistics.com, the team selected only the age, current rank, current elo rank, and prize money (total accumulated earnings) variables from the .csv file.\n",
    "\n",
    "We have chosen to assess a player's current rank as opposed to their best rank in order to reflect their current age in the ranking decision. Furthermore, rank refers to an accumulation of points scored by a player across various different tournaments, while elo rank is a comparative ranking that gauges a player's skill against their opponents. For example, a player who competes in lower-level tournaments may have a high rank but not necessarily a high elo rank. Looking at both ranking systems can help us determine the skill and ultimate success of a player.\n",
    "\n",
    "### Methods\n",
    "We first cleaned and wrangled the variables into a tidydata format. We then split the data into training and testing sets. We then visualized the variables of the training set by creating three individual scatter plots with age on the x-axis and the current rank, current elo rank, or prize money on the y-axis, respectively.\n",
    "\n",
    "Afterwards, we will use Knn regression to see if age can predict the values of current rank, current elo rank, and prize money. We will achieve this by using the training data set to run a cross-validation to choose the best K parameter and train and fit the model. Then, we will use the testing data set to evaluate our model's performance. We will then visualize the results by creating six individual graphs (three histograms and three scatter plots) of the original data set, all with a trend line representing our model's regression predictions and age on the x-axis and the current rank, current elo rank, or prize money each on the y-axis. The histogram will have bins distributed by age group.\n",
    "\n",
    "### Expected Outcomes and Significance\n",
    "We expect to find that players in their early to mid-twenties will have a higher current rank and current elo rank, while players of an older age will have higher prize money. Tennis players could use this data to assess their earnings at any given age and better plan for their career's future.\n",
    "\n",
    "Further research might include how other variables in the same data set (such as height and number of years gone professional) as well as other possible variables outside this data set (such as number of years spent training or costs spent on training) change the relationship between age and success."
   ]
  },
  {
   "cell_type": "code",
   "execution_count": 5,
   "id": "fcb02434-171e-4b76-9f60-eb5879f97855",
   "metadata": {
    "tags": []
   },
   "outputs": [
    {
     "name": "stderr",
     "output_type": "stream",
     "text": [
      "Updating HTML index of packages in '.Library'\n",
      "\n",
      "Making 'packages.html' ...\n",
      " done\n",
      "\n"
     ]
    }
   ],
   "source": [
    "#Library Packages\n",
    "library(tidyverse)\n",
    "install.packages(\"janitor\")\n",
    "library(janitor)\n",
    "library(repr)\n",
    "library(tidymodels)"
   ]
  },
  {
   "cell_type": "code",
   "execution_count": 3,
   "id": "807a806b-1bd6-4272-b148-601c07c53833",
   "metadata": {
    "tags": []
   },
   "outputs": [
    {
     "name": "stderr",
     "output_type": "stream",
     "text": [
      "\u001b[1m\u001b[22mNew names:\n",
      "\u001b[36m•\u001b[39m `` -> `...1`\n",
      "\u001b[1mRows: \u001b[22m\u001b[34m500\u001b[39m \u001b[1mColumns: \u001b[22m\u001b[34m38\u001b[39m\n",
      "\u001b[36m──\u001b[39m \u001b[1mColumn specification\u001b[22m \u001b[36m────────────────────────────────────────────────────────\u001b[39m\n",
      "\u001b[1mDelimiter:\u001b[22m \",\"\n",
      "\u001b[31mchr\u001b[39m (25): Age, Country, Plays, Wikipedia, Current Rank, Best Rank, Name, Bac...\n",
      "\u001b[32mdbl\u001b[39m (13): ...1, Turned Pro, Seasons, Titles, Best Season, Retired, Masters, ...\n",
      "\n",
      "\u001b[36mℹ\u001b[39m Use `spec()` to retrieve the full column specification for this data.\n",
      "\u001b[36mℹ\u001b[39m Specify the column types or set `show_col_types = FALSE` to quiet this message.\n",
      "Warning message:\n",
      "“\u001b[1m\u001b[22mExpected 2 pieces. Additional pieces discarded in 2 rows [146, 441].”\n",
      "Warning message:\n",
      "“\u001b[1m\u001b[22mExpected 2 pieces. Missing pieces filled with `NA` in 412 rows [2, 3, 4, 5, 6,\n",
      "7, 8, 9, 10, 11, 12, 13, 14, 15, 18, 19, 20, 21, 22, 23, ...].”\n"
     ]
    },
    {
     "data": {
      "text/html": [
       "<table class=\"dataframe\">\n",
       "<caption>A tibble: 6 × 4</caption>\n",
       "<thead>\n",
       "\t<tr><th scope=col>current_rank</th><th scope=col>current_elo_rank</th><th scope=col>prize_money</th><th scope=col>age</th></tr>\n",
       "\t<tr><th scope=col>&lt;chr&gt;</th><th scope=col>&lt;chr&gt;</th><th scope=col>&lt;chr&gt;</th><th scope=col>&lt;chr&gt;</th></tr>\n",
       "</thead>\n",
       "<tbody>\n",
       "\t<tr><td>378</td><td>NA </td><td>NA       </td><td>26</td></tr>\n",
       "\t<tr><td>326</td><td>NA </td><td>59,040   </td><td>18</td></tr>\n",
       "\t<tr><td>178</td><td>144</td><td>3,261,567</td><td>32</td></tr>\n",
       "\t<tr><td>236</td><td>NA </td><td>374,093  </td><td>21</td></tr>\n",
       "\t<tr><td>183</td><td>100</td><td>6,091,971</td><td>27</td></tr>\n",
       "\t<tr><td>31 </td><td>33 </td><td>1,517,157</td><td>22</td></tr>\n",
       "</tbody>\n",
       "</table>\n"
      ],
      "text/latex": [
       "A tibble: 6 × 4\n",
       "\\begin{tabular}{llll}\n",
       " current\\_rank & current\\_elo\\_rank & prize\\_money & age\\\\\n",
       " <chr> & <chr> & <chr> & <chr>\\\\\n",
       "\\hline\n",
       "\t 378 & NA  & NA        & 26\\\\\n",
       "\t 326 & NA  & 59,040    & 18\\\\\n",
       "\t 178 & 144 & 3,261,567 & 32\\\\\n",
       "\t 236 & NA  & 374,093   & 21\\\\\n",
       "\t 183 & 100 & 6,091,971 & 27\\\\\n",
       "\t 31  & 33  & 1,517,157 & 22\\\\\n",
       "\\end{tabular}\n"
      ],
      "text/markdown": [
       "\n",
       "A tibble: 6 × 4\n",
       "\n",
       "| current_rank &lt;chr&gt; | current_elo_rank &lt;chr&gt; | prize_money &lt;chr&gt; | age &lt;chr&gt; |\n",
       "|---|---|---|---|\n",
       "| 378 | NA  | NA        | 26 |\n",
       "| 326 | NA  | 59,040    | 18 |\n",
       "| 178 | 144 | 3,261,567 | 32 |\n",
       "| 236 | NA  | 374,093   | 21 |\n",
       "| 183 | 100 | 6,091,971 | 27 |\n",
       "| 31  | 33  | 1,517,157 | 22 |\n",
       "\n"
      ],
      "text/plain": [
       "  current_rank current_elo_rank prize_money age\n",
       "1 378          NA               NA          26 \n",
       "2 326          NA               59,040      18 \n",
       "3 178          144              3,261,567   32 \n",
       "4 236          NA               374,093     21 \n",
       "5 183          100              6,091,971   27 \n",
       "6 31           33               1,517,157   22 "
      ]
     },
     "metadata": {},
     "output_type": "display_data"
    },
    {
     "name": "stderr",
     "output_type": "stream",
     "text": [
      "Warning message:\n",
      "“\u001b[1m\u001b[22mThere was 1 warning in `mutate()`.\n",
      "\u001b[1m\u001b[22m\u001b[36mℹ\u001b[39m In argument: `prize_money = as.numeric(gsub(\",\", \"\", prize_money))`.\n",
      "Caused by warning:\n",
      "\u001b[33m!\u001b[39m NAs introduced by coercion”\n"
     ]
    },
    {
     "data": {
      "text/html": [
       "<table class=\"dataframe\">\n",
       "<caption>A tibble: 6 × 4</caption>\n",
       "<thead>\n",
       "\t<tr><th scope=col>current_rank</th><th scope=col>current_elo_rank</th><th scope=col>prize_money</th><th scope=col>age</th></tr>\n",
       "\t<tr><th scope=col>&lt;dbl&gt;</th><th scope=col>&lt;dbl&gt;</th><th scope=col>&lt;dbl&gt;</th><th scope=col>&lt;dbl&gt;</th></tr>\n",
       "</thead>\n",
       "<tbody>\n",
       "\t<tr><td>378</td><td> NA</td><td>     NA</td><td>26</td></tr>\n",
       "\t<tr><td>326</td><td> NA</td><td>  59040</td><td>18</td></tr>\n",
       "\t<tr><td>178</td><td>144</td><td>3261567</td><td>32</td></tr>\n",
       "\t<tr><td>236</td><td> NA</td><td> 374093</td><td>21</td></tr>\n",
       "\t<tr><td>183</td><td>100</td><td>6091971</td><td>27</td></tr>\n",
       "\t<tr><td> 31</td><td> 33</td><td>1517157</td><td>22</td></tr>\n",
       "</tbody>\n",
       "</table>\n"
      ],
      "text/latex": [
       "A tibble: 6 × 4\n",
       "\\begin{tabular}{llll}\n",
       " current\\_rank & current\\_elo\\_rank & prize\\_money & age\\\\\n",
       " <dbl> & <dbl> & <dbl> & <dbl>\\\\\n",
       "\\hline\n",
       "\t 378 &  NA &      NA & 26\\\\\n",
       "\t 326 &  NA &   59040 & 18\\\\\n",
       "\t 178 & 144 & 3261567 & 32\\\\\n",
       "\t 236 &  NA &  374093 & 21\\\\\n",
       "\t 183 & 100 & 6091971 & 27\\\\\n",
       "\t  31 &  33 & 1517157 & 22\\\\\n",
       "\\end{tabular}\n"
      ],
      "text/markdown": [
       "\n",
       "A tibble: 6 × 4\n",
       "\n",
       "| current_rank &lt;dbl&gt; | current_elo_rank &lt;dbl&gt; | prize_money &lt;dbl&gt; | age &lt;dbl&gt; |\n",
       "|---|---|---|---|\n",
       "| 378 |  NA |      NA | 26 |\n",
       "| 326 |  NA |   59040 | 18 |\n",
       "| 178 | 144 | 3261567 | 32 |\n",
       "| 236 |  NA |  374093 | 21 |\n",
       "| 183 | 100 | 6091971 | 27 |\n",
       "|  31 |  33 | 1517157 | 22 |\n",
       "\n"
      ],
      "text/plain": [
       "  current_rank current_elo_rank prize_money age\n",
       "1 378           NA                   NA     26 \n",
       "2 326           NA                59040     18 \n",
       "3 178          144              3261567     32 \n",
       "4 236           NA               374093     21 \n",
       "5 183          100              6091971     27 \n",
       "6  31           33              1517157     22 "
      ]
     },
     "metadata": {},
     "output_type": "display_data"
    },
    {
     "data": {
      "text/html": [
       "<table class=\"dataframe\">\n",
       "<caption>A tibble: 6 × 4</caption>\n",
       "<thead>\n",
       "\t<tr><th scope=col>current_rank</th><th scope=col>current_elo_rank</th><th scope=col>prize_money</th><th scope=col>age</th></tr>\n",
       "\t<tr><th scope=col>&lt;dbl&gt;</th><th scope=col>&lt;dbl&gt;</th><th scope=col>&lt;dbl&gt;</th><th scope=col>&lt;dbl&gt;</th></tr>\n",
       "</thead>\n",
       "<tbody>\n",
       "\t<tr><td>232</td><td>NA</td><td> 59123</td><td>21</td></tr>\n",
       "\t<tr><td>104</td><td>NA</td><td> 74927</td><td>20</td></tr>\n",
       "\t<tr><td>431</td><td>NA</td><td> 54004</td><td>23</td></tr>\n",
       "\t<tr><td>339</td><td>NA</td><td> 87942</td><td>22</td></tr>\n",
       "\t<tr><td>297</td><td>NA</td><td>100014</td><td>24</td></tr>\n",
       "\t<tr><td>228</td><td>NA</td><td> 43346</td><td>21</td></tr>\n",
       "</tbody>\n",
       "</table>\n"
      ],
      "text/latex": [
       "A tibble: 6 × 4\n",
       "\\begin{tabular}{llll}\n",
       " current\\_rank & current\\_elo\\_rank & prize\\_money & age\\\\\n",
       " <dbl> & <dbl> & <dbl> & <dbl>\\\\\n",
       "\\hline\n",
       "\t 232 & NA &  59123 & 21\\\\\n",
       "\t 104 & NA &  74927 & 20\\\\\n",
       "\t 431 & NA &  54004 & 23\\\\\n",
       "\t 339 & NA &  87942 & 22\\\\\n",
       "\t 297 & NA & 100014 & 24\\\\\n",
       "\t 228 & NA &  43346 & 21\\\\\n",
       "\\end{tabular}\n"
      ],
      "text/markdown": [
       "\n",
       "A tibble: 6 × 4\n",
       "\n",
       "| current_rank &lt;dbl&gt; | current_elo_rank &lt;dbl&gt; | prize_money &lt;dbl&gt; | age &lt;dbl&gt; |\n",
       "|---|---|---|---|\n",
       "| 232 | NA |  59123 | 21 |\n",
       "| 104 | NA |  74927 | 20 |\n",
       "| 431 | NA |  54004 | 23 |\n",
       "| 339 | NA |  87942 | 22 |\n",
       "| 297 | NA | 100014 | 24 |\n",
       "| 228 | NA |  43346 | 21 |\n",
       "\n"
      ],
      "text/plain": [
       "  current_rank current_elo_rank prize_money age\n",
       "1 232          NA                59123      21 \n",
       "2 104          NA                74927      20 \n",
       "3 431          NA                54004      23 \n",
       "4 339          NA                87942      22 \n",
       "5 297          NA               100014      24 \n",
       "6 228          NA                43346      21 "
      ]
     },
     "metadata": {},
     "output_type": "display_data"
    }
   ],
   "source": [
    "#Reads the data of the Top 500 Tennis Players\n",
    "player_data <- read_csv(\"https://raw.githubusercontent.com/lukeelliotchan/dsci100_grp35/main/player_stats.csv\") |>\n",
    "    clean_names()\n",
    "\n",
    "#Seperates values in cells and makes the format tidy\n",
    "player_data_tidy <- player_data |>\n",
    "    separate(current_rank, c(\"current_rank\", \"points\"), \" \") |>\n",
    "    separate(current_elo_rank, c(\"current_elo_rank\", \"current_elo\"), \" \") |>\n",
    "    separate(age, c(\"age\", \"dob\"), \" \") |>\n",
    "    separate(prize_money, c(\"dollar\", \"prize_money\"), \"\\\\$\") |>\n",
    "    separate(prize_money, c(\"prize_money\", \"temp\"), \"  \") |>\n",
    "    select(current_rank, current_elo_rank, prize_money, age)\n",
    "\n",
    "head(player_data_tidy)\n",
    "\n",
    "#Cleans erroneous text and irrelevant information\n",
    "player_data_cleaned <- player_data_tidy |>\n",
    "    mutate(current_rank = as.numeric(current_rank)) |> \n",
    "        #turn the columns into numbers\n",
    "    mutate(prize_money = as.numeric(gsub(\",\", \"\", prize_money))) |> \n",
    "        #rows that dont meet condition of becoming number are just NA, will fix later\n",
    "    mutate(current_elo_rank = gsub(\"\\\\(\", \"\", current_elo_rank)) |>\n",
    "    mutate(current_elo_rank = as.numeric(gsub(\"\\\\)\",\"\", current_elo_rank)))   |>                                      \n",
    "    mutate(age = as.numeric(age))\n",
    "\n",
    "head(player_data_cleaned)\n",
    "\n",
    "#Splits the data into training and testing sets\n",
    "data_split <- initial_split(player_data_cleaned, prop = 0.75, strata = prize_money)\n",
    "player_training <- training(data_split)\n",
    "player_testing <- testing(data_split)\n",
    "\n",
    "head(player_training)"
   ]
  },
  {
   "cell_type": "code",
   "execution_count": 4,
   "id": "17959a34-2fd7-43eb-9e4a-db63e18a69a7",
   "metadata": {
    "tags": []
   },
   "outputs": [
    {
     "name": "stderr",
     "output_type": "stream",
     "text": [
      "\u001b[1m\u001b[22mSaving 6.67 x 6.67 in image\n",
      "Warning message:\n",
      "“\u001b[1m\u001b[22mRemoved 75 rows containing missing values (`geom_point()`).”\n",
      "\u001b[1m\u001b[22mSaving 6.67 x 6.67 in image\n",
      "Warning message:\n",
      "“\u001b[1m\u001b[22mRemoved 5 rows containing missing values (`geom_point()`).”\n",
      "\u001b[1m\u001b[22mSaving 6.67 x 6.67 in image\n",
      "Warning message:\n",
      "“\u001b[1m\u001b[22mRemoved 231 rows containing missing values (`geom_point()`).”\n"
     ]
    }
   ],
   "source": [
    "#Three Initial Scatter Plots\n",
    "age_money_plot <- player_training |>\n",
    "    ggplot(aes(x=age, y= prize_money))+\n",
    "    geom_point(alpha=0.2)+\n",
    "    labs(x=\"Age of the Top 500 Tennis Players\", y= \"Prize Money (Scaled)\") +\n",
    "    scale_y_log10() +\n",
    "    ggtitle(\"How Age Affects Prize Money\") +\n",
    "    theme(text = element_text(size=15))\n",
    "ggsave(\"age_money_plot.png\",age_money_plot)\n",
    "\n",
    "age_rank_plot <- player_training |>\n",
    "    ggplot(aes(x=age, y= current_rank))+\n",
    "    geom_point(alpha=0.2)+\n",
    "    labs(x=\"Age of the Top 500 Tennis Players\", y= \"Current Rank (Scaled)\") +\n",
    "    scale_y_log10() +\n",
    "    ggtitle(\"How Age Affects Current Rank\") +\n",
    "    theme(text = element_text(size=15))\n",
    "ggsave(\"age_rank_plot.png\",age_rank_plot)\n",
    "\n",
    "age_elo_plot <- player_training |>\n",
    "    ggplot(aes(x=age, y= current_elo_rank))+\n",
    "    geom_point(alpha=0.2)+\n",
    "    labs(x=\"Age of the Top 500 Tennis Players\", y= \"Current Elo Rankg (Scaled)\") +\n",
    "    scale_y_log10() +\n",
    "    ggtitle(\"How Age Affects Current Elo Rank\")+\n",
    "    theme(text = element_text(size=15))\n",
    "ggsave(\"age_elo_plot.png\", age_elo_plot)"
   ]
  },
  {
   "cell_type": "code",
   "execution_count": null,
   "id": "2d3a7eca-dd0a-4103-a3c0-3b2110fb0a46",
   "metadata": {},
   "outputs": [],
   "source": []
  }
 ],
 "metadata": {
  "kernelspec": {
   "display_name": "R",
   "language": "R",
   "name": "ir"
  },
  "language_info": {
   "codemirror_mode": "r",
   "file_extension": ".r",
   "mimetype": "text/x-r-source",
   "name": "R",
   "pygments_lexer": "r",
   "version": "4.2.2"
  }
 },
 "nbformat": 4,
 "nbformat_minor": 5
}
